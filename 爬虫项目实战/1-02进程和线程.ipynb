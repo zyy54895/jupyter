{
 "cells": [
  {
   "cell_type": "markdown",
   "metadata": {},
   "source": [
    "# 1.4.1多进程\n",
    "### 1.使用os模块中的fork方式实现多进程\n",
    "#### fork方法是调用一次，返回两次，操作系统将当前进程（父进程）复制出一份子进程，这两个进程几乎完全相同。子进程中永远返回0，父进程返回子进程的id（在linux系统中才有效）"
   ]
  },
  {
   "cell_type": "code",
   "execution_count": 4,
   "metadata": {},
   "outputs": [
    {
     "name": "stdout",
     "output_type": "stream",
     "text": [
      "currnet Process (15664) start...\n"
     ]
    },
    {
     "ename": "AttributeError",
     "evalue": "module 'os' has no attribute 'fork'",
     "output_type": "error",
     "traceback": [
      "\u001b[1;31m---------------------------------------------------------------------------\u001b[0m",
      "\u001b[1;31mAttributeError\u001b[0m                            Traceback (most recent call last)",
      "\u001b[1;32m<ipython-input-4-efa9393bf35f>\u001b[0m in \u001b[0;36m<module>\u001b[1;34m()\u001b[0m\n\u001b[0;32m      2\u001b[0m \u001b[1;32mif\u001b[0m \u001b[0m__name__\u001b[0m \u001b[1;33m==\u001b[0m \u001b[1;34m'__main__'\u001b[0m\u001b[1;33m:\u001b[0m\u001b[1;33m\u001b[0m\u001b[0m\n\u001b[0;32m      3\u001b[0m     \u001b[0mprint\u001b[0m\u001b[1;33m(\u001b[0m\u001b[1;34m'currnet Process (%s) start...'\u001b[0m\u001b[1;33m%\u001b[0m\u001b[1;33m(\u001b[0m\u001b[0mos\u001b[0m\u001b[1;33m.\u001b[0m\u001b[0mgetpid\u001b[0m\u001b[1;33m(\u001b[0m\u001b[1;33m)\u001b[0m\u001b[1;33m)\u001b[0m\u001b[1;33m)\u001b[0m\u001b[1;33m\u001b[0m\u001b[0m\n\u001b[1;32m----> 4\u001b[1;33m     \u001b[0mpid\u001b[0m \u001b[1;33m=\u001b[0m \u001b[0mos\u001b[0m\u001b[1;33m.\u001b[0m\u001b[0mfork\u001b[0m\u001b[1;33m(\u001b[0m\u001b[1;33m)\u001b[0m\u001b[1;33m\u001b[0m\u001b[0m\n\u001b[0m\u001b[0;32m      5\u001b[0m     \u001b[1;32mif\u001b[0m \u001b[0mpid\u001b[0m \u001b[1;33m<\u001b[0m \u001b[1;36m0\u001b[0m\u001b[1;33m:\u001b[0m\u001b[1;33m\u001b[0m\u001b[0m\n\u001b[0;32m      6\u001b[0m         \u001b[0mprint\u001b[0m\u001b[1;33m(\u001b[0m\u001b[1;34m'error in fork'\u001b[0m\u001b[1;33m)\u001b[0m\u001b[1;33m\u001b[0m\u001b[0m\n",
      "\u001b[1;31mAttributeError\u001b[0m: module 'os' has no attribute 'fork'"
     ]
    }
   ],
   "source": [
    "import os\n",
    "if __name__ == '__main__':\n",
    "    print('currnet Process (%s) start...'%(os.getpid()))\n",
    "    pid = os.fork()\n",
    "    if pid < 0:\n",
    "        print('error in fork')\n",
    "    elif pid == 0:\n",
    "         print('i am a child process(%s) and my parent process is(%s)' % (os.getpid(), os.getppid()))\n",
    "    else:\n",
    "        print('I(%s) created a child process(%s).' % (os.getpid(), pid))"
   ]
  },
  {
   "cell_type": "markdown",
   "metadata": {},
   "source": [
    "### 2.使用multiprocessing模块创建多进程"
   ]
  },
  {
   "cell_type": "code",
   "execution_count": 14,
   "metadata": {},
   "outputs": [
    {
     "name": "stdout",
     "output_type": "stream",
     "text": [
      "parent process 1284\n",
      "process will start.\n",
      "process will start.\n",
      "process will start.\n",
      "process will start.\n",
      "process will start.\n",
      "process end\n"
     ]
    }
   ],
   "source": [
    "import os\n",
    "from multiprocessing import Process\n",
    "# 子进程要执行的代码\n",
    "def run_proc(name):\n",
    "    print('child process %s (%s) running...' % (name, os.getpid()))\n",
    "if __name__ == '__main__':\n",
    "    print('parent process %s' % os.getpid())\n",
    "    for i in range(5):\n",
    "        p = Process(target=run_proc, args=(str(i), ))\n",
    "        print('process will start.')\n",
    "        p.start()\n",
    "    p.join()\n",
    "    print('process end')"
   ]
  },
  {
   "cell_type": "markdown",
   "metadata": {},
   "source": [
    "### 3.multiprocessing提供了一个Pool类来代表进程池对象"
   ]
  },
  {
   "cell_type": "code",
   "execution_count": null,
   "metadata": {},
   "outputs": [
    {
     "name": "stdout",
     "output_type": "stream",
     "text": [
      "current process 1284\n",
      "waiting for all subprocesses done...\n"
     ]
    }
   ],
   "source": [
    "from multiprocessing import Pool\n",
    "import os, time, random\n",
    "\n",
    "def run_task(name):\n",
    "    print('task %s (pid=%s) is running...' % (name, os.getpid()))\n",
    "    time.sleep(random.random()*3)\n",
    "    print('task %s end.' % name)\n",
    "\n",
    "if __name__ == '__main__':\n",
    "    print('current process %s' % os.getpid())\n",
    "    p = Pool(processes=3)\n",
    "    for i in range(5):\n",
    "        p.apply_async(run_task, args=(i, ))\n",
    "    print('waiting for all subprocesses done...')\n",
    "    p.close()\n",
    "    p.join()\n",
    "    print('all subprocesses done.')"
   ]
  },
  {
   "cell_type": "markdown",
   "metadata": {},
   "source": [
    "# 注：多进程在pycharm下正常工作"
   ]
  },
  {
   "cell_type": "markdown",
   "metadata": {},
   "source": [
    "# 1.4.2 多线程\n",
    "#### 多线程类似于同时执行多个不同程序，多线程运行有如下优点：\n",
    "#### 1.可以把运行时间长的任务放到后台去处理。\n",
    "#### 2.用户界面可以更加吸引人，比如用户点击了一个按钮去触发某些事件的处理，可以弹出一个进度条来显示处理的进度\n",
    "#### 3.程序的运行速度可能加快\n",
    "#### 4.在一些需要等待的任务实现上，如用户输入、文件读写和网络收发数据等，线程就比较有用了。在这种情况下我们可以释放一些珍贵的资源，如内存占用等"
   ]
  },
  {
   "cell_type": "markdown",
   "metadata": {},
   "source": [
    "## 1.用threading模块创建多线程"
   ]
  },
  {
   "cell_type": "code",
   "execution_count": 1,
   "metadata": {},
   "outputs": [
    {
     "name": "stdout",
     "output_type": "stream",
     "text": [
      "MainThread is running...\n",
      "Current Thread_1 is running...Current Thread_2 is running...\n",
      "\n",
      "Thread_1 ---->>> url1Thread_2 ---->>> url4\n",
      "\n",
      "Thread_1 ---->>> url2\n",
      "Thread_2 ---->>> url5\n",
      "Thread_1 ---->>> url3\n",
      "Thread_1 ended.\n",
      "Thread_2 ---->>> url6\n",
      "Thread_2 ended.\n"
     ]
    }
   ],
   "source": [
    "import random\n",
    "import time, threading\n",
    "# 新线程执行的代码:\n",
    "def thread_run(urls):\n",
    "    print('Current %s is running...' % threading.current_thread().name)\n",
    "    for url in urls:\n",
    "        print('%s ---->>> %s' % (threading.current_thread().name, url))\n",
    "        time.sleep(random.random())\n",
    "    print('%s ended.' % threading.current_thread().name)\n",
    "\n",
    "print('%s is running...' % threading.current_thread().name)\n",
    "t1 = threading.Thread(target=thread_run, name='Thread_1', args=(['url1', 'url2', 'url3'], ))\n",
    "t2 = threading.Thread(target=thread_run, name='Thread_2', args=(['url4', 'url5', 'url6'], ))\n",
    "t1.start()\n",
    "t2.start()\n",
    "t1.join()\n",
    "t2.join()"
   ]
  },
  {
   "cell_type": "markdown",
   "metadata": {},
   "source": [
    "### 第二种方式从threading.Thread继承创建线程类，将方法一进行重写："
   ]
  },
  {
   "cell_type": "code",
   "execution_count": 4,
   "metadata": {},
   "outputs": [
    {
     "name": "stdout",
     "output_type": "stream",
     "text": [
      "current MainThread is running...\n",
      "current Thread_1 is running...\n",
      "Thread_1 --->>> url_1\n",
      "current Thread_2 is running...\n",
      "Thread_2 --->>> url_4\n",
      "Thread_2 --->>> url_5\n",
      "Thread_2 --->>> url_6\n",
      "Thread_1 --->>> url_2\n",
      "Thread_1 --->>> url_3\n",
      "Thread_1 ended.\n",
      "Thread_2 ended.\n",
      "MainThread ended.\n"
     ]
    }
   ],
   "source": [
    "import random\n",
    "import threading\n",
    "import time\n",
    "class myThread(threading.Thread):\n",
    "    def __init__(self,name,urls):\n",
    "        threading.Thread.__init__(self,name=name)\n",
    "        self.urls = urls\n",
    "    \n",
    "    def run(self):\n",
    "        print('current %s is running...' % threading.current_thread().name)\n",
    "        for url in self.urls:\n",
    "            print('%s --->>> %s' % (threading.current_thread().name,url))\n",
    "            time.sleep(random.random())\n",
    "        print('%s ended.' % threading.current_thread().name)       \n",
    "print('current %s is running...' % threading.current_thread().name)\n",
    "t1 = myThread(name='Thread_1',urls=['url_1','url_2','url_3'])\n",
    "t2 = myThread(name='Thread_2',urls=['url_4','url_5','url_6'])\n",
    "t1.start()\n",
    "t2.start()\n",
    "t1.join()\n",
    "t2.join()\n",
    "print('%s ended.' % threading.current_thread().name)"
   ]
  },
  {
   "cell_type": "markdown",
   "metadata": {
    "collapsed": true
   },
   "source": [
    "## 2.线程同步\n",
    "#### 如果多个线程共同对某个数据修改，则可能出现不可预料的结果，为了保证数据的正确性，需要对多个线程进行同步。使用Thread对象的Lock和RLock可以实现简单的线程同步，这两个对象都有acquire方法和release方法，对于那些每次只允许一个线程操作的数据，可以将其操作放到acquire和release方法之间"
   ]
  },
  {
   "cell_type": "code",
   "execution_count": null,
   "metadata": {
    "collapsed": true
   },
   "outputs": [],
   "source": []
  }
 ],
 "metadata": {
  "kernelspec": {
   "display_name": "Python 3",
   "language": "python",
   "name": "python3"
  },
  "language_info": {
   "codemirror_mode": {
    "name": "ipython",
    "version": 3
   },
   "file_extension": ".py",
   "mimetype": "text/x-python",
   "name": "python",
   "nbconvert_exporter": "python",
   "pygments_lexer": "ipython3",
   "version": "3.6.5"
  }
 },
 "nbformat": 4,
 "nbformat_minor": 2
}
