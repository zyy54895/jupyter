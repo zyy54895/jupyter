{
 "cells": [
  {
   "cell_type": "markdown",
   "metadata": {},
   "source": [
    "# 1.3.1打开读写\n",
    "### 1.打开文件\n",
    "#### open函数：\n",
    "#### open(name[.mode[.buffering]])\n",
    "\n",
    "### 2.文件模式（mode)\n",
    "|值|功能描述|\n",
    "|:-:|:-|\n",
    "|'r'|读模式\n",
    "|'w'|写模式\n",
    "|'a'|追加模式\n",
    "|'b'|二进制模式(可添加到其他模式中使用)\n",
    "|'+'|读/写模式（可添加到其他模式中使用）　　　　　　　　　　　　　　　　　　　　　　                        \n",
    "\n",
    "### 3.文件缓冲区\n",
    "#### 参数为0：I/O操作无缓冲\n",
    "#### 参数为1：I/O操作有缓冲，数据先写到内存里，使用flush函数或者close函数更新至硬盘\n",
    "#### 参数大于1：代表缓冲区的大小（单位字节）\n",
    "#### 参数为-1：代表使用默认缓冲区的大小\n",
    "\n",
    "### 4.文件读取\n"
   ]
  },
  {
   "cell_type": "code",
   "execution_count": 11,
   "metadata": {},
   "outputs": [
    {
     "name": "stdout",
     "output_type": "stream",
     "text": [
      "asd\n",
      "aa\n"
     ]
    }
   ],
   "source": [
    "##方法1\n",
    "try:\n",
    "    f = open(r'test.txt', 'r')\n",
    "    print(f.read())\n",
    "finally:\n",
    "    if f:\n",
    "        f.close()"
   ]
  },
  {
   "cell_type": "code",
   "execution_count": 3,
   "metadata": {},
   "outputs": [
    {
     "name": "stdout",
     "output_type": "stream",
     "text": [
      "01test\n"
     ]
    }
   ],
   "source": [
    "##方法2：\n",
    "with open(r'test.txt', 'r') as filereader:\n",
    "    # print(filereader.read())\n",
    "    for line in filereader.readlines():\n",
    "        print(line.strip())"
   ]
  },
  {
   "cell_type": "markdown",
   "metadata": {},
   "source": [
    "### tips:\n",
    "#### 调用read()一次将文件内容读到内存，但如果文件过大，会出现内存不足，一般对于大文件，可以反复调用read(size)方法\n",
    "#### readline()可以每次读取一行内容\n",
    "#### readlines()可以一次读取所有内容并且按行返回列表"
   ]
  },
  {
   "cell_type": "markdown",
   "metadata": {},
   "source": [
    "### 5.文件写入\n",
    "##### 写文件与读文件相同，区别是在调用open方法时，传入标识符'w'或者'wb'"
   ]
  },
  {
   "cell_type": "code",
   "execution_count": 5,
   "metadata": {
    "collapsed": true
   },
   "outputs": [],
   "source": [
    "f = open(r'test.txt', 'w')\n",
    "f.write('qq')\n",
    "f.close()"
   ]
  },
  {
   "cell_type": "code",
   "execution_count": 10,
   "metadata": {
    "collapsed": true
   },
   "outputs": [],
   "source": [
    "with open(r'test.txt', 'w') as filewriter:\n",
    "    filewriter.write('asd\\naa')"
   ]
  },
  {
   "cell_type": "markdown",
   "metadata": {},
   "source": [
    "# 1.3.2 操作文件和目录\n",
    "|序号   |功能      |语法\n",
    "|:-:    |:-       |:-\n",
    "|1|获得当前python脚本工作的目录路径|os.getcwd()\n",
    "|2|返回指定目录下的所有文件和目录名|os.listdir()\n",
    "|3|删除一个文件|os.remove(filepath)\n",
    "|4|删除多个空目录|os.removedirs(r\"path\")\n",
    "|5|检验给出的路径是否是一个文件|os.path.isfile(filepath)\n",
    "|6|检验给出的路径是否是一个目录|os.path.isdir(filepath)\n",
    "|7|判断是否是绝对路径|os.path.isabs()\n",
    "|8|检验路径是否真的存在|os.path.exists()\n",
    "|9|分离一个路径的目录名和文件名|os.path.split()\n",
    "|10|分离扩展名|os.path.splitext()\n",
    "|11|获取路径名|os.path.dirname(filepath)\n",
    "|12|获取文件名|os.path.basename(filepath)\n",
    "|13|读取和设置环境变量|os.getenv()与os.putenv()\n",
    "|14|给出当前平台使用的终止符|os.linesep\n",
    "|15|指示你正在使用的平台|os.name\n",
    "|16|重命名文件夹或者目录|os.rename(old,new)\n",
    "|17|创建多级目录|os.makedirs(r\"c:\\python\\test\")\n",
    "|18|创建单个目录|os.mkdir(\"test\")\n",
    "|19|获取文件属性|os.state(file)\n",
    "|20|修改文件权限与时间戳|os.chmod(file)\n",
    "|21|获取文件大小|os.path.getsize(filename)\n",
    "|22|复制文件夹|shutil.copytree(\"olddir\",\"newdir\"),\"olddir\"和\"newdir\"都是目录，并且\"newdir\"必须不存在\n",
    "|23|复制文件|shutil.copyfile(\"oldfile\",\"newfile\"),\"oldfile\"和\"newfile\"都只能是文件；shutil.copy(\"oldfile,\"newfile\"),oldfile只能是文件，newfile可以是文件，也可以是目标目录\n",
    "|24|移动文件(目录)|shutil.move(\"oldpos\",\"newpos\")\n",
    "|25|删除目录|os.rmdir(\"dir\"),只能删除空目录；shutil.rmtree(\"dir\"),都能删"
   ]
  },
  {
   "cell_type": "markdown",
   "metadata": {},
   "source": [
    "# 1.3.3 序列化操作\n",
    "\n"
   ]
  },
  {
   "cell_type": "code",
   "execution_count": 12,
   "metadata": {
    "collapsed": true
   },
   "outputs": [],
   "source": [
    "import pickle\n",
    "\n",
    "d = dict(url='index.html', title='首页', content='首页')\n",
    "\n",
    "f = open('pickle.txt', 'wb')\n",
    "pickle.dump(d, f)\n",
    "f.close()"
   ]
  },
  {
   "cell_type": "code",
   "execution_count": 14,
   "metadata": {},
   "outputs": [
    {
     "data": {
      "text/plain": [
       "{'content': '首页', 'title': '首页', 'url': 'index.html'}"
      ]
     },
     "execution_count": 14,
     "metadata": {},
     "output_type": "execute_result"
    }
   ],
   "source": [
    "#反序列化\n",
    "f = open('pickle.txt', 'rb')\n",
    "d1 = pickle.load(f)\n",
    "f.close()\n",
    "d1"
   ]
  },
  {
   "cell_type": "code",
   "execution_count": null,
   "metadata": {
    "collapsed": true
   },
   "outputs": [],
   "source": []
  }
 ],
 "metadata": {
  "kernelspec": {
   "display_name": "Python 3",
   "language": "python",
   "name": "python3"
  },
  "language_info": {
   "codemirror_mode": {
    "name": "ipython",
    "version": 3
   },
   "file_extension": ".py",
   "mimetype": "text/x-python",
   "name": "python",
   "nbconvert_exporter": "python",
   "pygments_lexer": "ipython3",
   "version": "3.6.5"
  }
 },
 "nbformat": 4,
 "nbformat_minor": 2
}
