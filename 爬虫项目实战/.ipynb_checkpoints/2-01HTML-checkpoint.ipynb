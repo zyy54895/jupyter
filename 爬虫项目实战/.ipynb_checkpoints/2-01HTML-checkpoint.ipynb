{
 "cells": [
  {
   "cell_type": "markdown",
   "metadata": {},
   "source": [
    "# 1.html的基本结构\n",
    "|标记|内容|\n",
    "|-|-|\n",
    "|&lt;html&gt;内容&lt;/html&gt;|html文档是由&lt;html&gt;&lt;/html&gt;包裹，这是HTML的文档标记，分别位于网页的最前端和最后端|\n",
    "|&lt;head&gt;内容&lt;/head&gt;|HTML文件头标记。用来包含文件的基本信息，比如网页的标题，关键字等|\n",
    "|&lt;title&gt;内容&lt;/title&gt;|HTML文件标题标记。|\n",
    "|&lt;body&gt;内容&lt;/body&gt;|网页的主体部分|\n",
    "|&lt;meta&gt;内容&lt;/meta&gt;|页面的元信息。meta标记必须放在head元素里面|"
   ]
  },
  {
   "cell_type": "code",
   "execution_count": 2,
   "metadata": {},
   "outputs": [
    {
     "name": "stdout",
     "output_type": "stream",
     "text": [
      "<html>\n",
      "<head>\n",
      "\t<title>Python爬虫项目开发与实战</title>\n",
      "\t<meta charset=\"utf-8\">\n",
      "</head>\n",
      "<body>\n",
      "\t文档设置标记<br>\n",
      "\t<p>这是段落。</p>\n",
      "\t<p>这是段落。</p>\n",
      "\t<p>这是段落。</p>\n",
      "\t<hr>\n",
      "\t<center>居中标记1</center>\n",
      "\t<center>居中标记2</center>\n",
      "\t<hr>\n",
      "\t<pre>\n",
      "\t\t[00:00](music)\n",
      "\t\t[00:28]你我皆凡人，生在人世间；\n",
      "\t\t[00:35]终日奔波苦，一刻不得闲；\n",
      "\t\t[00:43]既然不是仙，难免有杂念；\n",
      "\t</pre>\n",
      "\t<hr>\n",
      "\t<p>\n",
      "\t\t[00:00](music)\n",
      "\t\t[00:28]你我皆凡人，生在人世间；\n",
      "\t\t[00:35]终日奔波苦，一刻不得闲；\n",
      "\t\t[00:43]既然不是仙，难免有杂念；\n",
      "\t</p>\n",
      "\t<hr>\n",
      "\t<br>\n",
      "\t<ul>\n",
      "\t\t<li>coffee</li>\n",
      "\t\t<li>Milk</li>\n",
      "\t</ul>\n",
      "\t<ol type=\"A\">\n",
      "\t\t<li>coffee</li>\n",
      "\t\t<li>Milk</li>\t\t\n",
      "\t</ol>\n",
      "\t<dl>\n",
      "\t\t<dt>计算机</dt>\n",
      "\t\t<dd>用来计算的仪器。。。</dd>\n",
      "\t\t<dt>显示器</dt>\n",
      "\t\t<dd>以视觉方式显示信息的仪器。。。</dd>\n",
      "\t</dl>\n",
      "\t<div>\n",
      "\t\t<h3>这是标题</h3>\n",
      "\t\t<p>这是段落。</p>\n",
      "\t</div>\n",
      "</body>\n",
      "</html>\n"
     ]
    }
   ],
   "source": [
    "with open('2-01文档设置标记.html','r',encoding='utf-8') as filereader:\n",
    "    print(filereader.read())"
   ]
  },
  {
   "cell_type": "markdown",
   "metadata": {},
   "source": [
    "# 文档设置标题\n",
    "|标记|内容|\n",
    "|:-: |:-: |\n",
    "|&lt;br&gt;|强制换行标记。让后面的文字、图片、表格等等，显示在下一行|\n",
    "|&lt;p&gt;|换段落标记。|\n",
    "|&lt;center&gt;|居中对齐标记。让段落或者是文字相对于父标记居中显示|\n",
    "|&lt;pre&gt;|预格式化标记。保留预先编排好的格式，常用来定义计算机源代码。|\n",
    "|&lt;li&gt;|列表项目标记。每一个列表使用一个&lt;li&gt;标记，可用在有序列表（&lt;ol&gt;）和无序列表（&lt;ul&gt;）中。|\n",
    "|&lt;ul&gt;|无序列表标记。|\n",
    "|&lt;ol&gt;|有序列表标记。有序列表的type属性值\"1\"表示阿拉伯数字1.2.3等；\"A\"表示大写字母A.B.C等；\"a\"表示小写字母a.b.c等；\"I\"表示大写罗马数字I.II.III.IV等；\"i\"表示小写罗马数字i.ii.iii.iv等；|\n",
    "|&lt;dl&gt;&lt;dt&gt;&lt;dd&gt;|定义型列表。|\n",
    "|&lt;hr&gt;|水平分割线标记。|\n",
    "|&lt;div&gt;|分区显示标记，也称为层标记|\n",
    "\n"
   ]
  },
  {
   "cell_type": "code",
   "execution_count": null,
   "metadata": {},
   "outputs": [],
   "source": []
  }
 ],
 "metadata": {
  "kernelspec": {
   "display_name": "Python 3",
   "language": "python",
   "name": "python3"
  },
  "language_info": {
   "codemirror_mode": {
    "name": "ipython",
    "version": 3
   },
   "file_extension": ".py",
   "mimetype": "text/x-python",
   "name": "python",
   "nbconvert_exporter": "python",
   "pygments_lexer": "ipython3",
   "version": "3.6.5"
  }
 },
 "nbformat": 4,
 "nbformat_minor": 2
}
