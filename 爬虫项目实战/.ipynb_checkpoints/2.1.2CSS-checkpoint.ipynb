{
 "cells": [
  {
   "cell_type": "markdown",
   "metadata": {
    "collapsed": true
   },
   "source": [
    "# CSS\n",
    "#### CSS指层叠样式表，用来定义如何显示HTML元素，一般和HTML配合使用。CSS样式表的目的是为了解决内容与表现分离的问题，即使同一个HTML文档也能表现出外观的多样化。在HTML中使用CSS样式的方式，一般有三种做法：\n",
    "* 内联样式表：CSS代码直接写在现有的HTML标记中，直接使用style属性改变样式。例如，&lt;body style=\"background-color:green;margin:0;padding:0;\"&gt;&lt;/body&gt;。\n",
    "* 嵌入式样式表：CSS样式代码写在&lt;style type=\"text/css\"&gt;&lt;/style&gt;标记之间，一般情况下嵌入式css样表写在&lt;head&gt;&lt;/head&gt;之间。\n",
    "* 外部样式表：CSS代码写一个单独的外部文件中，这个CSS样式文件已“.css”为扩展名，在&lt;head&gt;内（不是在&lt;style&gt;标记内）使用&lt;link&gt;标记将CSS样式文件链接到HTML文件内。例如，&lt;link rel=\"StyleSheet\" type=\"text/css\" href=\"style.css\"&gt;。"
   ]
  },
  {
   "cell_type": "markdown",
   "metadata": {},
   "source": [
    "### CSS规则由两个主要的部分构成：选择器，以及一条或者多条声明。选择器通常是需要改变样式的HTML元素。每条声明由一个属性和一个值组成。属性时希望设置的样式属性。每个属性有一个值。属性和值由冒号分开。根据选择器的定义方式，可以将样式表定义分成三种方式：\n",
    "- HTML标记定义：假如想修改&lt;p&gt;...&lt;/p&gt;的样式，可以定义CSS：p{属性1：属性值1; 属性2：属性值2;}。\n",
    "- ID选择器定义：ID选择器可以为标有特定ID的HTML元素指定特定的样式。HTML元素以ID属性来设置ID选择器，CSS中ID选择器以“#”来定义。假如定义为#word{text-aligin:center;color:red;}，就将HTML中ID为word的元素设置为居中，颜色为红色。\n",
    "- class选择器定义：class选择器用于描述一组元素的样式，class选择器有别于ID选择器，它可以在多个元素中使用。class选择器在HTML中以class属性表示，在CSS中，class选择器以一个“.”号显示。例如，p.center{text-aligin:center}是对所有的p元素使用class=\"center\"，让该元素文本居中。\n"
   ]
  },
  {
   "cell_type": "markdown",
   "metadata": {},
   "source": [
    "## 1.颜色属性\n",
    "### 颜色属性color用来定义文本的颜色，可以用以下方式定义颜色：\n",
    "- 颜色名称，如color:green\n",
    "- 十六进制，如color:#ff6600\n",
    "- 简写形式，如color:#f60\n",
    "- RGB方式\n",
    "- RGBA 方式"
   ]
  },
  {
   "cell_type": "markdown",
   "metadata": {},
   "source": [
    "## 2.字体属性\n",
    "### 可以使用字体属性定义文本形式，有如下方法：\n",
    "- font-size定义字体大小；\n",
    "- font-family定义字体；\n",
    "- font-weight定义字体加粗，取值有两种方式。一种是使用名称，normal(默认值)\\bold(粗)\\bolder(更粗)\\lighter(更细);一种是使用数字,如100\\200\\300~900,400=normal,700=bold\n"
   ]
  },
  {
   "cell_type": "markdown",
   "metadata": {},
   "source": [
    "## 3.背景属性\n",
    "### 可以用背景属性定义背景颜色\\背景图片\\背景重复和背景的位置,内容如下:\n",
    "- background-color用来定义背景的颜色,用法参考颜色属性;\n",
    "- background-image用来定义背景图片,如background-image:url(图片路径),也可以设置为background-image:none,表示不使用图片;\n",
    "- background-repeat用来定义背景重复方式.取值为repeat,表示整体重复平铺;取值为repeat-x,表示只在水平方向平铺;取值为repeat-y,表示只在垂直方向平铺;取值为no-repeat,表示不重复.\n",
    "- background-position用来定义背景的位置.在横向上,可以取left\\center\\right;在纵向上,可以取top\\center\\bottom\n",
    "- 简写方式可以简化背景属性的书写,同时定义多个属性,格式为background:背景颜色 url(图像) 重复位置"
   ]
  },
  {
   "cell_type": "markdown",
   "metadata": {
    "collapsed": true
   },
   "source": [
    "## 4.文本属性\n",
    "### 文本属性设置行高\\缩进和字符间距,具体如下:\n",
    "- text-aligin设置文本对齐方式,属性值可以取left\\center\\right;\n",
    "- line-height设置文本行高,属性值可以取具体数值,来设置固定的行高值.也可以取百分比;\n",
    "- text-indent代表首行缩进,如text-indent:50px,代表首行缩进50个像素;\n",
    "- letter-spacing用来设置字符间距.默认值是normal,规定字符间没有额外的空间;可以设置具体的数值(可以是负值);可以取inherit,从父元素继承属性的值;"
   ]
  },
  {
   "cell_type": "markdown",
   "metadata": {
    "collapsed": true
   },
   "source": []
  },
  {
   "cell_type": "code",
   "execution_count": null,
   "metadata": {
    "collapsed": true
   },
   "outputs": [],
   "source": []
  },
  {
   "cell_type": "code",
   "execution_count": null,
   "metadata": {
    "collapsed": true
   },
   "outputs": [],
   "source": []
  }
 ],
 "metadata": {
  "kernelspec": {
   "display_name": "Python 3",
   "language": "python",
   "name": "python3"
  },
  "language_info": {
   "codemirror_mode": {
    "name": "ipython",
    "version": 3
   },
   "file_extension": ".py",
   "mimetype": "text/x-python",
   "name": "python",
   "nbconvert_exporter": "python",
   "pygments_lexer": "ipython3",
   "version": "3.6.2"
  }
 },
 "nbformat": 4,
 "nbformat_minor": 2
}
