{
 "cells": [
  {
   "cell_type": "markdown",
   "metadata": {},
   "source": [
    "# 1.html的基本结构\n",
    "|标记|内容|\n",
    "|:-|:-|\n",
    "|&lt;html&gt;内容&lt;/html&gt;|html文档是由&lt;html&gt;&lt;/html&gt;包裹，这是HTML的文档标记，分别位于网页的最前端和最后端|\n",
    "|&lt;head&gt;内容&lt;/head&gt;|HTML文件头标记。用来包含文件的基本信息，比如网页的标题，关键字等|\n",
    "|&lt;title&gt;内容&lt;/title&gt;|HTML文件标题标记。|\n",
    "|&lt;body&gt;内容&lt;/body&gt;|网页的主体部分|\n",
    "|&lt;meta&gt;内容&lt;/meta&gt;|页面的元信息。meta标记必须放在head元素里面|"
   ]
  },
  {
   "cell_type": "code",
   "execution_count": 2,
   "metadata": {},
   "outputs": [
    {
     "name": "stdout",
     "output_type": "stream",
     "text": [
      "<html>\n",
      "<head>\n",
      "\t<title>Python爬虫项目开发与实战</title>\n",
      "\t<meta charset=\"utf-8\">\n",
      "</head>\n",
      "<body>\n",
      "\t文档设置标记<br>\n",
      "\t<p>这是段落。</p>\n",
      "\t<p>这是段落。</p>\n",
      "\t<p>这是段落。</p>\n",
      "\t<hr>\n",
      "\t<center>居中标记1</center>\n",
      "\t<center>居中标记2</center>\n",
      "\t<hr>\n",
      "\t<pre>\n",
      "\t\t[00:00](music)\n",
      "\t\t[00:28]你我皆凡人，生在人世间；\n",
      "\t\t[00:35]终日奔波苦，一刻不得闲；\n",
      "\t\t[00:43]既然不是仙，难免有杂念；\n",
      "\t</pre>\n",
      "\t<hr>\n",
      "\t<p>\n",
      "\t\t[00:00](music)\n",
      "\t\t[00:28]你我皆凡人，生在人世间；\n",
      "\t\t[00:35]终日奔波苦，一刻不得闲；\n",
      "\t\t[00:43]既然不是仙，难免有杂念；\n",
      "\t</p>\n",
      "\t<hr>\n",
      "\t<br>\n",
      "\t<ul>\n",
      "\t\t<li>coffee</li>\n",
      "\t\t<li>Milk</li>\n",
      "\t</ul>\n",
      "\t<ol type=\"A\">\n",
      "\t\t<li>coffee</li>\n",
      "\t\t<li>Milk</li>\t\t\n",
      "\t</ol>\n",
      "\t<dl>\n",
      "\t\t<dt>计算机</dt>\n",
      "\t\t<dd>用来计算的仪器。。。</dd>\n",
      "\t\t<dt>显示器</dt>\n",
      "\t\t<dd>以视觉方式显示信息的仪器。。。</dd>\n",
      "\t</dl>\n",
      "\t<div>\n",
      "\t\t<h3>这是标题</h3>\n",
      "\t\t<p>这是段落。</p>\n",
      "\t</div>\n",
      "</body>\n",
      "</html>\n"
     ]
    }
   ],
   "source": [
    "with open('2-01文档设置标记.html','r',encoding='utf-8') as filereader:\n",
    "    print(filereader.read())"
   ]
  },
  {
   "cell_type": "markdown",
   "metadata": {},
   "source": [
    "# 文档设置标记显示效果[点击](2-01文档设置标记.html)"
   ]
  },
  {
   "cell_type": "markdown",
   "metadata": {},
   "source": [
    "# 文档设置标记\n",
    "|标记|内容|\n",
    "|:-|:-|\n",
    "|&lt;br&gt;|强制换行标记。让后面的文字、图片、表格等等，显示在下一行|\n",
    "|&lt;p&gt;|换段落标记。|\n",
    "|&lt;center&gt;|居中对齐标记。让段落或者是文字相对于父标记居中显示|\n",
    "|&lt;pre&gt;|预格式化标记。保留预先编排好的格式，常用来定义计算机源代码。|\n",
    "|&lt;li&gt;|列表项目标记。每一个列表使用一个&lt;li&gt;标记，可用在有序列表（&lt;ol&gt;）和无序列表（&lt;ul&gt;）中。|\n",
    "|&lt;ul&gt;|无序列表标记。|\n",
    "|&lt;ol&gt;|有序列表标记。有序列表的type属性值\"1\"表示阿拉伯数字1.2.3等；\"A\"表示大写字母A.B.C等；\"a\"表示小写字母a.b.c等；\"I\"表示大写罗马数字I.II.III.IV等；\"i\"表示小写罗马数字i.ii.iii.iv等；|\n",
    "|&lt;dl&gt;&lt;dt&gt;&lt;dd&gt;|定义型列表。对列表条目进行简短的说明|\n",
    "|&lt;hr&gt;|水平分割线标记。可以用作段落之间的分割线|\n",
    "|&lt;div&gt;|分区显示标记，也称为层标记|\n",
    "\n"
   ]
  },
  {
   "cell_type": "code",
   "execution_count": 3,
   "metadata": {},
   "outputs": [
    {
     "name": "stdout",
     "output_type": "stream",
     "text": [
      "<!DOCTYPE html>\n",
      "<html>\n",
      "<head>\n",
      "\t<title>Python爬虫开发与项目实战</title>\n",
      "\t<meta charset=\"utf-8\">\n",
      "</head>\n",
      "<body>\n",
      "\tHn标题标记---->>\n",
      "\t<br>\n",
      "\t<h1>Python爬虫</h1>\n",
      "\t<h2>Python爬虫</h2>\n",
      "\t<h3>Python爬虫</h3>\n",
      "\t<h4>Python爬虫</h4>\n",
      "\t<h5>Python爬虫</h5>\n",
      "\t<h6>Python爬虫</h6>\n",
      "\tfont标记---->>\n",
      "\t<font size=\"1\">Python爬虫</font>\n",
      "\t<font size=\"3\">Python爬虫</font>\n",
      "\t<font size=\"7\">Python爬虫</font>\n",
      "\t<font size=\"7\" color=\"red\" face=\"微软雅黑\">Python爬虫</font>\n",
      "\t<font size=\"7\" color=\"red\" face=\"宋体\">Python爬虫</font>\n",
      "\t<font size=\"7\" color=\"red\" face=\"新细明体\">Python爬虫</font>\n",
      "\t<br>\n",
      "\tB标记加粗---->>\n",
      "\t<b>Python爬虫</b>\n",
      "\t<br>\n",
      "\ti标记斜体---->>\n",
      "\t<i>Python爬虫</i>\n",
      "\t<br>\n",
      "\tsub下标标记---->>\n",
      "\t2<sub>2</sub>\n",
      "\t<br>\n",
      "\tsup上标标记---->>\n",
      "\t2<sup>2</sup>\n",
      "\t<br>\n",
      "\t引用标记---->>\n",
      "\t<cite>Python爬虫</cite>\n",
      "\t<br>\n",
      "\tem标记表示强调，显示为斜体---->>\n",
      "\t<em>Python爬虫</em>\n",
      "\t<br>\n",
      "\tstrong表示强调，加粗显示---->>\n",
      "\t<strong>Python爬虫</strong>\n",
      "\t<br>\n",
      "\tsmall标记，可以显示小一号字体，可以嵌套使用---->>\n",
      "\t<small>Python爬虫</small>\n",
      "\t<small><small>Python爬虫</small></small>\n",
      "\t<small><small><small>Python爬虫</small></small></small>\n",
      "\t<br>\n",
      "\tbig标记，显示大一号字体---->>\n",
      "\t<big>Python爬虫</big>\n",
      "\t<big><big>Python爬虫</big></big>\n",
      "\t<br>\n",
      "\tu标记是显示下划线---->>\n",
      "\t<big><big><big><u>Python爬虫</u></big></big></big>\n",
      "\t<br>\n",
      "</body>\n",
      "</html>\n"
     ]
    }
   ],
   "source": [
    "with open('2-02文本标记.html','r',encoding='utf-8') as filereader:\n",
    "    print(filereader.read())"
   ]
  },
  {
   "cell_type": "markdown",
   "metadata": {},
   "source": [
    "# 文本标记显示效果[点击](2-02文本标记.html)"
   ]
  },
  {
   "cell_type": "markdown",
   "metadata": {},
   "source": [
    "# 文本标记\n",
    "\n",
    "|标记|内容|\n",
    "|:-|:-|\n",
    "|&lt;hn&gt;|标题标记。共有六个级别，n的范围为1~6，不同级别对应不同显示大小的标题，h1最大，h6最小|\n",
    "|&lt;font&gt;|字体设置标记。用来设置字体的格式，一般有三个常用属性:size（字体大小）；color（颜色），face（字体）|\n",
    "|&lt;b&gt;|粗字体标记|\n",
    "|&lt;i&gt;|斜字体标记|\n",
    "|&lt;sub&gt;|文字下标字体标记|\n",
    "|&lt;sup&gt;|文字上标字体标记|\n",
    "|&lt;tt&gt;|打印机字体标记|\n",
    "|&lt;cite&gt;|引用方式的字体，通常是斜体|\n",
    "|&lt;em&gt;|表示强调，通常显示为斜体|\n",
    "|&lt;strong&gt;|表示强调，通常显示为粗体字|\n",
    "|&lt;small&gt;|小型字体标记|\n",
    "|&lt;big&gt;|大型字体标记|\n",
    "|&lt;u&gt;|下划线字体标记|"
   ]
  },
  {
   "cell_type": "markdown",
   "metadata": {
    "collapsed": true
   },
   "source": [
    "# 图像标记\n",
    "### &lt;img&gt;称为图像标记，用来在网页中显示图像。使用方法为&lt;img src=\"路径/文件名.图片格式\"width=\"属性值\"border=\"属性值\"alt=\"属性值\"&gt;\n",
    "1. src属性用来指定我们要加载的图片的路径、图片的名称及图片的格式。\n",
    "2. width属性用来指定图片的宽度，单位为px、em、cm、mm。\n",
    "3. height属性用来指定图片的高度，单位为px、em、cm、mm。\n",
    "4. border属性用来指定图片的边框宽度，px、em、cm、mm。\n",
    "5. alt属性有两个作用:1)如果图像没有下载或者加载失败，会用文字来代替图像显示；2)搜索引擎可以通过这个属性的文字来抓取图片。"
   ]
  },
  {
   "cell_type": "markdown",
   "metadata": {},
   "source": [
    "# 超链接的使用\n",
    "### &lt;a&gt;标记的基本语法：&lt;a href=\"链接地址\"target=\"打开方式\"name=\"页面锚点名称\"&gt链接文字或者图片&lt;/a&gt;\n",
    "- href属性值是链接的地址，链接的地址可以是一个网页，也可以是一个视频、图片、音乐等。\n",
    "- target属性用来定义超链接的打开方式。属性值为_blank时，作用是在一个新的窗口中打开链接；当属性值为_self（默认值）时，作用是在当前窗口中打开链接；当属性值为_parent时，作用是在父窗口中打开页面；当属性值为_top时，在顶层窗口中打开文件。\n",
    "- name属性用来指定页面的锚点名称。"
   ]
  },
  {
   "cell_type": "code",
   "execution_count": 1,
   "metadata": {},
   "outputs": [
    {
     "name": "stdout",
     "output_type": "stream",
     "text": [
      "<!DOCTYPE html>\n",
      "<html>\n",
      "<head>\n",
      "\t<title>学生信息表</title>\n",
      "\t<meta charset=\"utf-8\">\n",
      "</head>\n",
      "<body>\n",
      "\t<table width=\"960\" align=\"center\" border=\"1\" rules=\"all\" cellpadding=\"15\">\n",
      "\t\t<tr>\n",
      "\t\t\t<th>学号</th>\n",
      "\t\t\t<th>班级</th>\n",
      "\t\t\t<th>姓名</th>\n",
      "\t\t\t<th>年龄</th>\n",
      "\t\t\t<th>籍贯</th>\n",
      "\t\t</tr>\n",
      "\t\t<tr align=\"center\">\n",
      "\t\t\t<th>1500001</th>\n",
      "\t\t\t<th>(1)班</th>\n",
      "\t\t\t<th>张三</th>\n",
      "\t\t\t<th>16</th>\n",
      "\t\t\t<th>上海</th>\n",
      "\t\t</tr>\n",
      "\t\t<tr align=\"center\">\n",
      "\t\t\t<th>1500011</th>\n",
      "\t\t\t<th>(2)班</th>\n",
      "\t\t\t<th>李四</th>\n",
      "\t\t\t<th>15</th>\n",
      "\t\t\t<th bgcolor=\"# ccc\">浙江</th>\n",
      "\t\t</tr>\n",
      "\t</table>\n",
      "\t<br>\n",
      "\t<table width=\"960\" align=\"center\" border=\"1\" rules=\"all\" cellpadding=\"15\">\n",
      "\t\t<tr bgcolor=\"# ccc\">\n",
      "\t\t\t<th>学号</th>\n",
      "\t\t\t<th>班级</th>\n",
      "\t\t\t<th>姓名</th>\n",
      "\t\t\t<th>年龄</th>\n",
      "\t\t\t<th>籍贯</th>\n",
      "\t\t</tr>\n",
      "\t\t<tr align=\"center\">\n",
      "\t\t\t<th>1500001</th>\n",
      "\t\t\t<th>(1)班</th>\n",
      "\t\t\t<th>张三</th>\n",
      "\t\t\t<th>16</th>\n",
      "\t\t\t<th bgcolor=\"red\"><font color=\"white\">上海</font></th>\n",
      "\t\t</tr>\n",
      "\t\t<tr align=\"center\">\n",
      "\t\t\t<th>1500011</th>\n",
      "\t\t\t<th>(2)班</th>\n",
      "\t\t\t<th>李四</th>\n",
      "\t\t\t<th>15</th>\n",
      "\t\t\t<th>浙江</th>\n",
      "\t\t</tr>\n",
      "\t</table>\n",
      "\n",
      "\n",
      "</body>\n",
      "</html>\n"
     ]
    }
   ],
   "source": [
    "with open('2-03表格.html','r',encoding='utf-8') as filereader:\n",
    "    print(filereader.read())"
   ]
  },
  {
   "cell_type": "markdown",
   "metadata": {},
   "source": [
    "# 表格显示效果[点击](2-03表格.html)"
   ]
  },
  {
   "cell_type": "markdown",
   "metadata": {},
   "source": [
    "# 表格\n",
    "### 表格的基本结构包括&lt;table&gt;、&lt;caption&gt;、&lt;tr&gt;、&lt;td&gt;和&lt;th&gt;等标记。\n",
    "- &lt;table&gt;标记的基本格式为&lt;table 属性1=\"属性值1\"  属性2=\"属性值2\"  属性3=\"属性值3\"&gt;表格内容&lt;/table&gt;。\n",
    "    * width属性：表示表格的宽度，它的值可以是像素(px)也可以是父级元素的百分比(%)。\n",
    "    * height属性：表示表格的高度，它的值可以是像素(px)也可以是父级元素的百分比(%)。\n",
    "    * border属性：表示表格外边框的宽度。\n",
    "    * align属性：表示表格的显示位置。left居左显示，center居中显示，right居右显示。\n",
    "    * cellspacing属性：单元格之间的间距，默认时2px，单位为像素。\n",
    "    * cellpadding属性：单元格内容与单元格边框的显示距离，单位为像素。\n",
    "    * frame属性：用来控制表格边框最外层的四条框线。void（默认值）表示无边框；above表示仅顶部有边框；below表示仅有底部边框；hsides表示仅有顶部和底部边框；lhs表示仅有左侧边框；rhs表示仅有右侧边框；vsides表示仅有左右侧边框；border表示包含全部四个边框；\n",
    "    *rules属性：用来控制是否显示以及如何显示单元格之间的分割线。none表示无分割线；all表示所有分割线；rows表示仅有行分割线；clos表示仅有列分割线；groups表示仅在行组和列组之间有分割线。\n",
    "- &lt;caption&gt;标记用于在表格中使用标题。&lt;caption&gt;属性的插入位置，直接位于&lt;table&gt;属性之后，&lt;tr&gt;表格行之前。align属性可以取四个值:top表示标题放在表格的上部；bottom表示标题放在表格的下部；left表示标题放在表格的左部；right表示标题放在表格的右部。\n",
    "- &lt;tr&gt;标记用来定义表格的行，对于每一个表格行，都是由一对&lt;tr&gt;...&lt;/tr&gt;标记表示，每一行&lt;tr&gt;标记内可以嵌套多个&lt;td&gt;或者&lt;th&gt;标记。&lt;tr&gt;标记中常见的属性值包括：\n",
    "    * bgcolor属性：用来设置背景颜色，格式为bgcolor=\"颜色值\"\n",
    "    * valign属性：用来设置垂直方向对齐方式，值为bottom时，表示靠顶端对齐；值为top时，表示靠底部对齐；值为middle时，表示居中对齐。\n",
    "    * align属性：用来设置水平方向的对齐方式，值为left时，表示靠左对齐；值为right时，表示靠右对齐；值为center时，表示居中对齐。\n",
    "- &lt;td&gt;和&lt;th&gt;都是单元格标记，必须嵌套在 &lt;tr&gt;标记内，成对出现。&lt;th&gt;是表头标记，通常位于首行或者首列，&lt;th&gt;中的文字默认会被加粗，而&lt;td&gt;不会。&lt;td&gt;是数据标记，表示单元格的具体数据。它们的属性都是一样的，常用属性如下：\n",
    "    * bgcolor设置单元格背景；\n",
    "    * align设置单元格对齐水平方式；\n",
    "    * valign设置单元格垂直对齐方式；\n",
    "    * width设置单元格宽度；\n",
    "    * height设置单元格高度；\n",
    "    * rowapan设置单元格所占行数；\n",
    "    * colspan设置单元格所占列数；"
   ]
  },
  {
   "cell_type": "code",
   "execution_count": null,
   "metadata": {
    "collapsed": true
   },
   "outputs": [],
   "source": []
  }
 ],
 "metadata": {
  "kernelspec": {
   "display_name": "Python 3",
   "language": "python",
   "name": "python3"
  },
  "language_info": {
   "codemirror_mode": {
    "name": "ipython",
    "version": 3
   },
   "file_extension": ".py",
   "mimetype": "text/x-python",
   "name": "python",
   "nbconvert_exporter": "python",
   "pygments_lexer": "ipython3",
   "version": "3.6.2"
  }
 },
 "nbformat": 4,
 "nbformat_minor": 2
}
