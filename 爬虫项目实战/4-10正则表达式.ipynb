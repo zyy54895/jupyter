{
 "cells": [
  {
   "cell_type": "markdown",
   "metadata": {},
   "source": [
    "# 1.常用元字符\n",
    "|元字符|含义|\n",
    "|:-:|:-|\n",
    "| . |匹配除换行符以外的任意字符|\n",
    "| \\b|匹配单词的开始或结束|\n",
    "| \\d|匹配数字|\n",
    "| \\w|匹配字母、数字、下划线或汉字|\n",
    "| \\s|匹配任意空白符，包括空格、制表符（Tab）、换行符、中文全角空格等|\n",
    "| ^ |匹配字符串的开始|\n",
    "| $ |匹配字符串的结束|\n",
    "    "
   ]
  },
  {
   "cell_type": "code",
   "execution_count": 11,
   "metadata": {},
   "outputs": [
    {
     "name": "stdout",
     "output_type": "stream",
     "text": [
      "['still', 'studying', 'so']\n"
     ]
    }
   ],
   "source": [
    "import re\n",
    "text = 'we are still studying and so busy'\n",
    "pattern = re.compile(r'\\bs\\w*\\b')\n",
    "result = pattern.findall(text)\n",
    "print(result)"
   ]
  },
  {
   "cell_type": "markdown",
   "metadata": {},
   "source": [
    "# 2.字符转义\n",
    "### 如果你想查找元字符本身的话，因为它们具有特定功能，没办法指定为普通字符，这个时候需要用到转义，使用“\\”来取消这些字符的特殊意义。因此如果查找“.”、“\\”或者“*”时，必须写成“\\.”、“\\\\”、“\\*”。\n"
   ]
  },
  {
   "cell_type": "code",
   "execution_count": 12,
   "metadata": {},
   "outputs": [
    {
     "name": "stdout",
     "output_type": "stream",
     "text": [
      "['www.google.com']\n"
     ]
    }
   ],
   "source": [
    "text1 = 'asda sdqw e qwe www.google.com asdasd 123123'\n",
    "pattern1 = re.compile(r'www\\.google\\.com')\n",
    "result1 = pattern1.findall(text1)\n",
    "print(result1)"
   ]
  },
  {
   "cell_type": "markdown",
   "metadata": {},
   "source": [
    "# 3.重复\n",
    "|限定符|含义|\n",
    "|:-:|:-|\n",
    "| * |重复零次或更多次|\n",
    "| + |重复一次或更多次|\n",
    "| ? |重复零次或一次|\n",
    "|{n}|重复n次|\n",
    "|{n,}|重复n次或更多次|\n",
    "|{n,m}|重复n到m次|"
   ]
  },
  {
   "cell_type": "markdown",
   "metadata": {},
   "source": [
    "# 4.字符集合\n",
    "### 正则表达式是通过[ ]来实现自定义字符集合，[abcde]就是匹配abcde中任意一个字符，[0-9]的含义与“\\d”是完全一致的。"
   ]
  },
  {
   "cell_type": "markdown",
   "metadata": {},
   "source": [
    "# 5.分支条件\n",
    "### 正则表达式中的分支条件指的是有几种匹配规则，如果满足其中任意一种规则都应该当成匹配，具体方法是用“|”把不同的规则分隔开。"
   ]
  },
  {
   "cell_type": "code",
   "execution_count": 13,
   "metadata": {},
   "outputs": [
    {
     "name": "stdout",
     "output_type": "stream",
     "text": [
      "['010-11223344', '0321-1234567']\n"
     ]
    }
   ],
   "source": [
    "text2 = 'asdas asdw 010-11223344 0321-1234567 asdaswq aaq 123123 44334 5454'\n",
    "pattern2 = re.compile(r'\\d{3}-\\d{8}|\\d{4}-\\d{7}')\n",
    "result2 = pattern2.findall(text2)\n",
    "print(result2)"
   ]
  },
  {
   "cell_type": "markdown",
   "metadata": {},
   "source": [
    "# 6.分组"
   ]
  },
  {
   "cell_type": "code",
   "execution_count": 93,
   "metadata": {},
   "outputs": [
    {
     "name": "stdout",
     "output_type": "stream",
     "text": [
      "[('192.168.10.3', '10.'), ('333.444.555.666', '555.')]\n"
     ]
    }
   ],
   "source": [
    "text3 = 'ads as aad 123.123.121 4324 192.168.10.3 adas oo12p3 333.444.555.666'\n",
    "pattern3 = re.compile(r'(?P<ip>(\\d{1,3}\\.){3}?\\d{1,3})')\n",
    "#result3 = re.findall(pattern3.group('ip'), text3)\n",
    "result3 = pattern3.findall(text3)\n",
    "print(result3)\n"
   ]
  },
  {
   "cell_type": "code",
   "execution_count": 82,
   "metadata": {},
   "outputs": [
    {
     "name": "stdout",
     "output_type": "stream",
     "text": [
      "[('192.168.10.3', '10.', '10', '3')]\n"
     ]
    }
   ],
   "source": [
    "text4 = 'ads as aad 123123 4324 192.168.10.3 adas oo12p3 333.444.555.666'\n",
    "pattern4 = re.compile(r'(((25[0-5]|2[0-4]\\d|[0-1]\\d{2}|[1-9]?\\d)\\.){3}(25[0-5]|2[0-4]\\d|[0-1]\\d{2}|[1-9]?\\d))')\n",
    "result4 = pattern4.findall(text4)\n",
    "print(result4)"
   ]
  },
  {
   "cell_type": "markdown",
   "metadata": {},
   "source": [
    "# 7.反义\n",
    "|代码|含义|\n",
    "|:-:|:-|\n",
    "|\\W        |匹配任意不是字母、数字、下划线、汉字的字符|\n",
    "|\\S        |匹配任意不是空白符的字符|\n",
    "|\\D        |匹配任意非数字的字符|\n",
    "|\\B        |匹配不是单词开头或结束的位置|\n",
    "|[^a]      |匹配除a以外的任意字符|\n",
    "|[^abcde]      |匹配出abcde以外的任意字符|\n",
    "|[^123丨abc]|匹配除1、2、3或者a、 b、c这几个字符以外的任意字符|"
   ]
  },
  {
   "cell_type": "code",
   "execution_count": null,
   "metadata": {
    "collapsed": true
   },
   "outputs": [],
   "source": []
  },
  {
   "cell_type": "code",
   "execution_count": null,
   "metadata": {
    "collapsed": true
   },
   "outputs": [],
   "source": []
  }
 ],
 "metadata": {
  "kernelspec": {
   "display_name": "Python 3",
   "language": "python",
   "name": "python3"
  },
  "language_info": {
   "codemirror_mode": {
    "name": "ipython",
    "version": 3
   },
   "file_extension": ".py",
   "mimetype": "text/x-python",
   "name": "python",
   "nbconvert_exporter": "python",
   "pygments_lexer": "ipython3",
   "version": "3.6.2"
  }
 },
 "nbformat": 4,
 "nbformat_minor": 2
}
