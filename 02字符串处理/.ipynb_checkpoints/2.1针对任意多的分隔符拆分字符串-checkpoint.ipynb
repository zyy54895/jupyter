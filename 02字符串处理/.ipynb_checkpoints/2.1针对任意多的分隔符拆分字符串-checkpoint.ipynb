{
 "cells": [
  {
   "cell_type": "markdown",
   "metadata": {},
   "source": [
    "# 2.1.1问题\n",
    "### 我们需要将字符串拆分为不同的字段，但是分隔符（以及分隔符之间的空格）在整个字符串中并不一致。\n",
    "\n",
    "# 2.1.2解决方案\n",
    "### 字符串对象的split()方法只能处理非常简单的情况，而且不支持多个分隔符，对分隔符周围存在的空格也无能为力。当需要一些更为灵活的功能时，应该使用re.split()方法。"
   ]
  },
  {
   "cell_type": "code",
   "execution_count": 8,
   "metadata": {},
   "outputs": [
    {
     "data": {
      "text/plain": [
       "['asdas', 'asdasw', 'adsaq', 'adq', 'asdas', 'asdasd', 'ere', 'dasda']"
      ]
     },
     "execution_count": 8,
     "metadata": {},
     "output_type": "execute_result"
    }
   ],
   "source": [
    "line = 'asdas asdasw; adsaq,adq asdas,asdasd;ere,      dasda'\n",
    "import re\n",
    "re.split(r'[;,\\s]\\s*',line)"
   ]
  },
  {
   "cell_type": "markdown",
   "metadata": {},
   "source": [
    "# 2.1.3讨论\n",
    "### re.split()是很有用的，因为可以为分隔符指定多个模式。"
   ]
  },
  {
   "cell_type": "code",
   "execution_count": 9,
   "metadata": {},
   "outputs": [
    {
     "data": {
      "text/plain": [
       "['asdas',\n",
       " ' ',\n",
       " 'asdasw',\n",
       " ';',\n",
       " 'adsaq',\n",
       " ',',\n",
       " 'adq',\n",
       " ' ',\n",
       " 'asdas',\n",
       " ',',\n",
       " 'asdasd',\n",
       " ';',\n",
       " 'ere',\n",
       " ',',\n",
       " 'dasda']"
      ]
     },
     "execution_count": 9,
     "metadata": {},
     "output_type": "execute_result"
    }
   ],
   "source": [
    "fields = re.split(r'(;|,|\\s)\\s*',line)\n",
    "fields"
   ]
  },
  {
   "cell_type": "code",
   "execution_count": 11,
   "metadata": {},
   "outputs": [
    {
     "data": {
      "text/plain": [
       "['asdas', 'asdasw', 'adsaq', 'adq', 'asdas', 'asdasd', 'ere', 'dasda']"
      ]
     },
     "execution_count": 11,
     "metadata": {},
     "output_type": "execute_result"
    }
   ],
   "source": [
    "values = fields[::2]\n",
    "values"
   ]
  },
  {
   "cell_type": "code",
   "execution_count": 12,
   "metadata": {},
   "outputs": [
    {
     "data": {
      "text/plain": [
       "[' ', ';', ',', ' ', ',', ';', ',', '']"
      ]
     },
     "execution_count": 12,
     "metadata": {},
     "output_type": "execute_result"
    }
   ],
   "source": [
    "delimiters = fields[1::2]+['']\n",
    "delimiters"
   ]
  },
  {
   "cell_type": "code",
   "execution_count": 14,
   "metadata": {},
   "outputs": [
    {
     "data": {
      "text/plain": [
       "['asdas', 'asdasw', 'adsaq', 'adq', 'asdas', 'asdasd', 'ere', 'dasda']"
      ]
     },
     "execution_count": 14,
     "metadata": {},
     "output_type": "execute_result"
    }
   ],
   "source": [
    "re.split(r'(?:;|,|\\s)\\s*',line)"
   ]
  },
  {
   "cell_type": "code",
   "execution_count": null,
   "metadata": {
    "collapsed": true
   },
   "outputs": [],
   "source": []
  }
 ],
 "metadata": {
  "kernelspec": {
   "display_name": "Python 3",
   "language": "python",
   "name": "python3"
  },
  "language_info": {
   "codemirror_mode": {
    "name": "ipython",
    "version": 3
   },
   "file_extension": ".py",
   "mimetype": "text/x-python",
   "name": "python",
   "nbconvert_exporter": "python",
   "pygments_lexer": "ipython3",
   "version": "3.6.2"
  }
 },
 "nbformat": 4,
 "nbformat_minor": 2
}
