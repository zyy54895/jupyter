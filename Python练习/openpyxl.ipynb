{
 "cells": [
  {
   "cell_type": "code",
   "execution_count": 3,
   "metadata": {},
   "outputs": [],
   "source": [
    "import openpyxl\n",
    "import win32ui\n",
    "dlg = win32ui.CreateFileDialog(1) # 1表示打开文件对话框\n",
    "\n",
    "dlg.SetOFNInitialDir('C:/Users') # 设置打开文件对话框中的初始显示目录\n",
    "dlg.DoModal() \n",
    "filename = dlg.GetPathName() # 获取选择的文件名称\n",
    "workbook= openpyxl.load_workbook(filename)"
   ]
  },
  {
   "cell_type": "code",
   "execution_count": null,
   "metadata": {
    "collapsed": true
   },
   "outputs": [],
   "source": []
  },
  {
   "cell_type": "code",
   "execution_count": 4,
   "metadata": {},
   "outputs": [
    {
     "name": "stdout",
     "output_type": "stream",
     "text": [
      "<class 'openpyxl.workbook.workbook.Workbook'>\n"
     ]
    }
   ],
   "source": [
    "print(type(workbook))"
   ]
  },
  {
   "cell_type": "code",
   "execution_count": 5,
   "metadata": {},
   "outputs": [
    {
     "name": "stdout",
     "output_type": "stream",
     "text": [
      "['Sheet1', 'Sheet2', 'Sheet3']\n"
     ]
    }
   ],
   "source": [
    "#当前工作簿所有的sheet\n",
    "print(workbook.get_sheet_names())"
   ]
  },
  {
   "cell_type": "code",
   "execution_count": 7,
   "metadata": {},
   "outputs": [
    {
     "name": "stdout",
     "output_type": "stream",
     "text": [
      "<Worksheet \"Sheet1\"> <class 'openpyxl.worksheet.worksheet.Worksheet'>\n"
     ]
    }
   ],
   "source": [
    "#返回sales表格\n",
    "sheet=workbook.get_sheet_by_name('Sheet1')  \n",
    "print(sheet,type(sheet))"
   ]
  },
  {
   "cell_type": "code",
   "execution_count": 8,
   "metadata": {},
   "outputs": [
    {
     "name": "stdout",
     "output_type": "stream",
     "text": [
      "\n",
      "sheet标题：Sheet1\n"
     ]
    }
   ],
   "source": [
    "#打印sheet的标题  \n",
    "print('\\nsheet标题：'+sheet.title) "
   ]
  },
  {
   "cell_type": "code",
   "execution_count": 10,
   "metadata": {},
   "outputs": [
    {
     "name": "stdout",
     "output_type": "stream",
     "text": [
      "\n",
      "当前sheet标题：Sheet1\n"
     ]
    }
   ],
   "source": [
    "#返回当前的表格  \n",
    "sheet2=workbook.get_active_sheet() \n",
    "print('\\n当前sheet标题：'+sheet2.title)"
   ]
  },
  {
   "cell_type": "code",
   "execution_count": 12,
   "metadata": {},
   "outputs": [
    {
     "data": {
      "text/plain": [
       "'2.4.8'"
      ]
     },
     "execution_count": 12,
     "metadata": {},
     "output_type": "execute_result"
    }
   ],
   "source": [
    "openpyxl.__version__  "
   ]
  },
  {
   "cell_type": "code",
   "execution_count": 15,
   "metadata": {},
   "outputs": [
    {
     "name": "stdout",
     "output_type": "stream",
     "text": [
      "\n",
      "sheet行范围：1~4517\n",
      "sheet列范围：1~7\n"
     ]
    }
   ],
   "source": [
    "#sheet的行数、列数,现在不用函数，直接用属性 \n",
    "print('\\nsheet行范围：'+str(sheet.min_row)+'~'+str(sheet.max_row))  \n",
    "print('sheet列范围：'+str(sheet.min_column)+'~'+str(sheet.max_column))"
   ]
  },
  {
   "cell_type": "code",
   "execution_count": 19,
   "metadata": {},
   "outputs": [
    {
     "name": "stdout",
     "output_type": "stream",
     "text": [
      "\n",
      "[A1] A:1 =日期\n",
      "[A1] A:1 =日期\n"
     ]
    }
   ],
   "source": [
    "#1.直接指定单元格取数据\n",
    "r = sheet['A1']\n",
    "print('\\n['+str(r.coordinate)+'] '+ str(r.column) +':'+ str(r.row) + ' =' + r.value)  \n",
    "print('['+str(sheet['A1'].coordinate)+'] '+ str(sheet['A1'].column) +':'+ str(sheet['A1'].row) + ' =' + sheet['A1'].value)"
   ]
  },
  {
   "cell_type": "code",
   "execution_count": 22,
   "metadata": {},
   "outputs": [
    {
     "name": "stdout",
     "output_type": "stream",
     "text": [
      "[A1] A:1 =日期\n"
     ]
    }
   ],
   "source": [
    "#2.通过行、列号取数据  \n",
    "c=sheet.cell(row=1,column=1)  \n",
    "print('['+str(c.coordinate)+'] '+ str(c.column) +':'+ str(c.row) + ' =' + c.value)"
   ]
  },
  {
   "cell_type": "code",
   "execution_count": 23,
   "metadata": {},
   "outputs": [
    {
     "name": "stdout",
     "output_type": "stream",
     "text": [
      "日期\n",
      "2016-06-27 13:25:16\n",
      "2016-06-27 13:25:17\n"
     ]
    }
   ],
   "source": [
    "#单元格数据  \n",
    "for row in sheet['a1':'a3']:  \n",
    "    for col in row:  \n",
    "        print(col.value)  "
   ]
  },
  {
   "cell_type": "code",
   "execution_count": null,
   "metadata": {
    "collapsed": true
   },
   "outputs": [],
   "source": []
  }
 ],
 "metadata": {
  "kernelspec": {
   "display_name": "Python 3",
   "language": "python",
   "name": "python3"
  },
  "language_info": {
   "codemirror_mode": {
    "name": "ipython",
    "version": 3
   },
   "file_extension": ".py",
   "mimetype": "text/x-python",
   "name": "python",
   "nbconvert_exporter": "python",
   "pygments_lexer": "ipython3",
   "version": "3.6.3"
  }
 },
 "nbformat": 4,
 "nbformat_minor": 2
}
