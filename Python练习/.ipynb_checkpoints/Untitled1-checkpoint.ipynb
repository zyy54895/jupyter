{
 "cells": [
  {
   "cell_type": "code",
   "execution_count": 25,
   "metadata": {},
   "outputs": [
    {
     "name": "stdout",
     "output_type": "stream",
     "text": [
      "['灵飞经_', '第五章', '紫禁深深(1)_爱上中文']\n"
     ]
    }
   ],
   "source": [
    "import re\n",
    "text = '灵飞经_ 第五章 紫禁深深(1)_爱上中文'\n",
    "text1 = text.split(' ')\n",
    "print(text1)"
   ]
  },
  {
   "cell_type": "code",
   "execution_count": 26,
   "metadata": {},
   "outputs": [
    {
     "ename": "ValueError",
     "evalue": "invalid literal for int() with base 10: '五'",
     "output_type": "error",
     "traceback": [
      "\u001b[1;31m---------------------------------------------------------------------------\u001b[0m",
      "\u001b[1;31mValueError\u001b[0m                                Traceback (most recent call last)",
      "\u001b[1;32m<ipython-input-26-fa121073f3f7>\u001b[0m in \u001b[0;36m<module>\u001b[1;34m()\u001b[0m\n\u001b[1;32m----> 1\u001b[1;33m \u001b[0mint\u001b[0m\u001b[1;33m(\u001b[0m\u001b[0mtext1\u001b[0m\u001b[1;33m[\u001b[0m\u001b[1;36m1\u001b[0m\u001b[1;33m]\u001b[0m\u001b[1;33m[\u001b[0m\u001b[1;36m1\u001b[0m\u001b[1;33m:\u001b[0m\u001b[1;33m-\u001b[0m\u001b[1;36m1\u001b[0m\u001b[1;33m]\u001b[0m\u001b[1;33m)\u001b[0m\u001b[1;33m\u001b[0m\u001b[0m\n\u001b[0m",
      "\u001b[1;31mValueError\u001b[0m: invalid literal for int() with base 10: '五'"
     ]
    }
   ],
   "source": [
    "int(text1[1][1:-1])"
   ]
  },
  {
   "cell_type": "code",
   "execution_count": 36,
   "metadata": {
    "collapsed": true
   },
   "outputs": [],
   "source": [
    " \n",
    "CN_NUM = {'〇' : 0,'一' : 1,'二' : 2,'三' : 3,'四' : 4,\n",
    "                '五' : 5,'六' : 6,'七' : 7,'八' : 8,'九' : 9,\n",
    "                '零' : 0,'壹' : 1,'贰' : 2,'叁' : 3,'肆' : 4,\n",
    "                '伍' : 5,'陆' : 6,'柒' : 7,'捌' : 8,'玖' : 9,\n",
    "                '貮' : 2,'两' : 2,}\n",
    "\n",
    "CN_UNIT = {'十' : 10,'拾' : 10,'百' : 100,\n",
    "           '佰' : 100,'千' : 1000,'仟' : 1000,'万' : 10000,\n",
    "           '萬' : 10000,'亿' : 100000000,'億' : 100000000,'兆' : 1000000000000}\n",
    "\n",
    "num = '一万零四百六十八'"
   ]
  },
  {
   "cell_type": "code",
   "execution_count": 37,
   "metadata": {},
   "outputs": [
    {
     "name": "stdout",
     "output_type": "stream",
     "text": [
      "10468\n"
     ]
    }
   ],
   "source": [
    "pos0 = 0\n",
    "pos1 = 0\n",
    "pos2 = 0\n",
    "pos3 = 0\n",
    "pos4 = 0\n",
    "pos5 = 0\n",
    "pos6 = 0\n",
    "for i in range(len(num)):\n",
    "    \n",
    "    if num[i] in CN_UNIT.keys():\n",
    "        if num[i] == '十':\n",
    "            pos1 =CN_NUM[num[i-1]]*CN_UNIT['十']   \n",
    "        if num[i] == '百':\n",
    "            pos2 =CN_NUM[num[i-1]]*CN_UNIT['百']\n",
    "        if num[i] == '千':\n",
    "            pos3 =CN_NUM[num[i-1]]*CN_UNIT['千']\n",
    "        if num[i] == '万':\n",
    "            pos4 =CN_NUM[num[i-1]]*CN_UNIT['万']\n",
    "        if num[i] == '亿':\n",
    "            pos5 =CN_NUM[num[i-1]]*CN_UNIT['亿']\n",
    "        if num[i] == '兆':\n",
    "            pos6 =CN_NUM[num[i-1]]*CN_UNIT['兆']\n",
    "    elif num[-1] not in CN_UNIT.keys():\n",
    "        pos0 = CN_NUM[num[-1]]\n",
    "print(pos0+pos1+pos2+pos3+pos4+pos5+pos6) "
   ]
  },
  {
   "cell_type": "code",
   "execution_count": null,
   "metadata": {
    "collapsed": true
   },
   "outputs": [],
   "source": []
  },
  {
   "cell_type": "code",
   "execution_count": null,
   "metadata": {
    "collapsed": true
   },
   "outputs": [],
   "source": []
  }
 ],
 "metadata": {
  "kernelspec": {
   "display_name": "Python 3",
   "language": "python",
   "name": "python3"
  },
  "language_info": {
   "codemirror_mode": {
    "name": "ipython",
    "version": 3
   },
   "file_extension": ".py",
   "mimetype": "text/x-python",
   "name": "python",
   "nbconvert_exporter": "python",
   "pygments_lexer": "ipython3",
   "version": "3.6.2"
  }
 },
 "nbformat": 4,
 "nbformat_minor": 2
}
