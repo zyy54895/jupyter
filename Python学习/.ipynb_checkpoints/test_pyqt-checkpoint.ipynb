{
 "cells": [
  {
   "cell_type": "code",
   "execution_count": 1,
   "metadata": {},
   "outputs": [
    {
     "ename": "SystemExit",
     "evalue": "0",
     "output_type": "error",
     "traceback": [
      "An exception has occurred, use %tb to see the full traceback.\n",
      "\u001b[1;31mSystemExit\u001b[0m\u001b[1;31m:\u001b[0m 0\n"
     ]
    },
    {
     "name": "stderr",
     "output_type": "stream",
     "text": [
      "C:\\ProgramData\\Anaconda3\\lib\\site-packages\\IPython\\core\\interactiveshell.py:2870: UserWarning: To exit: use 'exit', 'quit', or Ctrl-D.\n",
      "  warn(\"To exit: use 'exit', 'quit', or Ctrl-D.\", stacklevel=1)\n"
     ]
    }
   ],
   "source": [
    "from PyQt5 import QtWidgets  \n",
    "#从PyQt库导入QtWidget通用窗口类  \n",
    "class mywindow(QtWidgets.QWidget):  \n",
    "#自己建一个mywindows类，以class开头，mywindows是自己的类名，  \n",
    "#（QtWidgets.QWidget）是继承QtWidgets.QWidget类方法，  \n",
    "    def __init__(self):  \n",
    "        super(mywindow,self).__init__()  \n",
    "  \n",
    "import sys  \n",
    "app = QtWidgets.QApplication(sys.argv)  \n",
    "windows = mywindow()  \n",
    "label=QtWidgets.QLabel(windows)     #在窗口中绑定label  \n",
    "label.setText(\"hello world\")  \n",
    "  \n",
    "windows.show()  \n",
    "sys.exit(app.exec_()) "
   ]
  },
  {
   "cell_type": "code",
   "execution_count": null,
   "metadata": {
    "collapsed": true
   },
   "outputs": [],
   "source": []
  }
 ],
 "metadata": {
  "kernelspec": {
   "display_name": "Python 3",
   "language": "python",
   "name": "python3"
  },
  "language_info": {
   "codemirror_mode": {
    "name": "ipython",
    "version": 3
   },
   "file_extension": ".py",
   "mimetype": "text/x-python",
   "name": "python",
   "nbconvert_exporter": "python",
   "pygments_lexer": "ipython3",
   "version": "3.6.3"
  }
 },
 "nbformat": 4,
 "nbformat_minor": 2
}
