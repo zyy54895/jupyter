{
 "cells": [
  {
   "cell_type": "code",
   "execution_count": 5,
   "metadata": {},
   "outputs": [
    {
     "name": "stdout",
     "output_type": "stream",
     "text": [
      "输入状态：1\n",
      "数字1：2\n",
      "数字2：3\n",
      "输出的数字为： 5.0\n"
     ]
    }
   ],
   "source": [
    "state = input('输入状态：')\n",
    "if int(state)==1:\n",
    "    number1=input('数字1：')\n",
    "    number2=input('数字2：')\n",
    "    print('输出的数字为：',float(number1)+float(number2))\n",
    "else:\n",
    "    print('输入无效')"
   ]
  },
  {
   "cell_type": "code",
   "execution_count": null,
   "metadata": {},
   "outputs": [
    {
     "name": "stdout",
     "output_type": "stream",
     "text": [
      "输入状态：2\n",
      "输入数字1：3\n",
      "输入数字2：4\n",
      "输出的差为： -1.0\n"
     ]
    }
   ],
   "source": [
    "running =1\n",
    "while int(running)==1:\n",
    "    \n",
    "    state=input('输入状态：')\n",
    "    if int(state)==1:\n",
    "        number1=input('输入数字1：')\n",
    "        number2=input('输入数字2：')\n",
    "        print('输出的和为：',float(number1) + float(number2))\n",
    "    if int(state)==2:\n",
    "        number1=input('输入数字1：')\n",
    "        number2=input('输入数字2：')\n",
    "        print('输出的差为：',float(number1) - float(number2))\n",
    "    if int(state)==3:\n",
    "        number1=input('输入数字1：')\n",
    "        number2=input('输入数字2：')\n",
    "        print('输出的积为：',float(number1) * float(number2))\n",
    "    if int(state)==4:\n",
    "        number1=input('输入数字1：')\n",
    "        number2=input('输入数字2：')\n",
    "        print('输出的商为：',float(number1) / float(number2))\n",
    "    if int(state)==5:\n",
    "        running=0\n",
    "else:\n",
    "    print('循环结束。')\n",
    "\n"
   ]
  },
  {
   "cell_type": "code",
   "execution_count": 14,
   "metadata": {},
   "outputs": [],
   "source": [
    "from tkinter import *\n",
    "import tkinter.messagebox as messagebox\n",
    "\n",
    "class Application(Frame):\n",
    "    def _init_(self,master=None):\n",
    "        Frame._init_(self,master)\n",
    "        self.pack()\n",
    "        self.createWidgets()\n",
    "    def createWidgets(self):\n",
    "        self.nameInput = Entry(self)\n",
    "        self.nameInput.pack()\n",
    "        self.alertButton = Button(self,text='hello',command=self.hello)\n",
    "        self.alertButton.pack()\n",
    "    def hello(self):\n",
    "        name=self.nameInput.get() or 'world'\n",
    "        messagebox.showinfo('message','hello, %s' % name)\n",
    "        \n",
    "    app = Application()\n",
    "    app.master.title('hello,world')\n",
    "    app.mainloop()"
   ]
  },
  {
   "cell_type": "code",
   "execution_count": null,
   "metadata": {
    "collapsed": true
   },
   "outputs": [],
   "source": []
  }
 ],
 "metadata": {
  "kernelspec": {
   "display_name": "Python 3",
   "language": "python",
   "name": "python3"
  },
  "language_info": {
   "codemirror_mode": {
    "name": "ipython",
    "version": 3
   },
   "file_extension": ".py",
   "mimetype": "text/x-python",
   "name": "python",
   "nbconvert_exporter": "python",
   "pygments_lexer": "ipython3",
   "version": "3.6.3"
  }
 },
 "nbformat": 4,
 "nbformat_minor": 2
}
