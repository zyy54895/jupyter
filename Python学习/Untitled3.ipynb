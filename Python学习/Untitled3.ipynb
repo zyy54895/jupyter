{
 "cells": [
  {
   "cell_type": "code",
   "execution_count": null,
   "metadata": {
    "collapsed": true
   },
   "outputs": [],
   "source": [
    "#!/usr/bin/env python\n",
    "import sys\n",
    "from PyQt5 import QtGui,QtCore\n",
    "## import httplib\n",
    "from urllib import urlencode\n",
    "import re\n",
    " \n",
    "def out(text):\n",
    "    p = re.compile(r'\",\"')\n",
    "    m = p.split(text)\n",
    "    result=unicode(m[0][4:].decode('utf-8'))\n",
    "    DS_Widget.setDS_TextEdit_text(result)\n",
    " \n",
    "def dic():\n",
    "    word=DS_Widget.getDS_LineEdit_text()\n",
    "    text=urlencode({'text':word})\n",
    "    h=httplib.HTTP('translate.google.cn')\n",
    "    h.putrequest('GET', '/translate_a/t?client=t&hl=zh-CN&sl=en&tl=zh-CN&ie=UTF-8&oe=UTF-8&'+text)\n",
    "    h.endheaders()\n",
    "    h.getreply()\n",
    "    f = h.getfile()\n",
    "    lines = f.readlines()\n",
    "    out(lines[0])\n",
    "    f.close()\n",
    " \n",
    "class DS_QWidget(QtGui.QWidget):\n",
    "    def __init__(self):\n",
    "        QtGui.QWidget.__init__(self)\n",
    "         \n",
    "        self.DS_LineEdit = QtGui.QLineEdit(self)  \n",
    "        DS_SearchButton=QtGui.QPushButton('Search',self)\n",
    "        self.DS_TextEdit = QtGui.QTextEdit(self)\n",
    " \n",
    "        hbox = QtGui.QHBoxLayout()\n",
    "        hbox.addWidget(self.DS_LineEdit)\n",
    "        hbox.addWidget(DS_SearchButton)\n",
    "         \n",
    "        vbox = QtGui.QVBoxLayout(self)\n",
    "        vbox.addLayout(hbox)\n",
    "        vbox.addWidget(self.DS_TextEdit)\n",
    "         \n",
    "        self.resize(500, 300)\n",
    "        self.setWindowTitle('Dictionary')\n",
    "        self.connect(DS_SearchButton, QtCore.SIGNAL('clicked()'),dic)\n",
    "        self.setLayout(vbox)\n",
    "         \n",
    "    def getDS_LineEdit_text(self):\n",
    "        return self.DS_LineEdit.text()\n",
    "    def setDS_TextEdit_text(self,text):\n",
    "        self.DS_TextEdit.setText(text)\n",
    " \n",
    "if __name__==\"__main__\":\n",
    "    DS_APP = QtGui.QApplication(sys.argv)\n",
    "    DS_Widget = DS_QWidget()\n",
    "    DS_Widget.show()\n",
    "    sys.exit(DS_APP.exec_())"
   ]
  },
  {
   "cell_type": "code",
   "execution_count": null,
   "metadata": {
    "collapsed": true
   },
   "outputs": [],
   "source": []
  }
 ],
 "metadata": {
  "kernelspec": {
   "display_name": "Python 3",
   "language": "python",
   "name": "python3"
  }
 },
 "nbformat": 4,
 "nbformat_minor": 2
}
